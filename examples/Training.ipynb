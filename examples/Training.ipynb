{
 "cells": [
  {
   "cell_type": "code",
   "execution_count": 3,
   "metadata": {
    "ExecuteTime": {
     "end_time": "2020-10-05T20:42:18.301151Z",
     "start_time": "2020-10-05T20:42:18.296926Z"
    }
   },
   "outputs": [],
   "source": [
    "# to be removed from public example\n",
    "import os\n",
    "os.chdir('/home/lucas/DeepSMLM/')"
   ]
  },
  {
   "cell_type": "code",
   "execution_count": 4,
   "metadata": {
    "ExecuteTime": {
     "end_time": "2020-10-05T20:42:23.439595Z",
     "start_time": "2020-10-05T20:42:18.304032Z"
    }
   },
   "outputs": [],
   "source": [
    "import decode\n",
    "import decode.utils\n",
    "\n",
    "import torch\n",
    "import numpy as np\n",
    "import matplotlib.pyplot as plt\n",
    "from pathlib import Path"
   ]
  },
  {
   "cell_type": "markdown",
   "metadata": {},
   "source": [
    "# DECODE - Training\n",
    "\n",
    "This notebook highlights how to train a DECODE model on real data.\n",
    "\n",
    "The DECODE network is trained on simulated data. This requires a calibration file containing the spline coefficients for the PSF model,\n",
    "and a parameter file that contains camera settings and other hyper parameters to set up the simulation process."
   ]
  },
  {
   "cell_type": "markdown",
   "metadata": {},
   "source": [
    "*(optional) __Load Example Data__*\n",
    "\n",
    "tbd"
   ]
  },
  {
   "cell_type": "markdown",
   "metadata": {},
   "source": [
    "## PSF Model\n",
    "\n",
    "To obtain the calibration file a spline model is fit on a stack of beads. \n",
    "We recommend to use fit3Dspline which is part of the SMAP package available at https://rieslab.de/ (Documentation: https://www.embl.de/download/ries/Documentation/)   \n",
    "\n",
    "Alternatively one can also use a .spline file fitted with the storm-analysis pacakage https://github.com/ZhuangLab/storm-analysis (Example notebook: https://github.com/ZhuangLab/storm-analysis/blob/master/jupyter_notebooks/spliner_measure_psf.ipynb)"
   ]
  },
  {
   "cell_type": "code",
   "execution_count": 11,
   "metadata": {
    "ExecuteTime": {
     "end_time": "2020-10-05T20:42:23.447471Z",
     "start_time": "2020-10-05T20:42:23.443694Z"
    }
   },
   "outputs": [],
   "source": [
    "calib_file = 'data/Calibration/2019-06-13_Calibration/sequence-as-stack-Beads-AS-Exp_3dcal.mat'\n",
    "# calib_file = 'psf.spline'"
   ]
  },
  {
   "cell_type": "markdown",
   "metadata": {},
   "source": [
    "# Simulation Parameters"
   ]
  },
  {
   "cell_type": "markdown",
   "metadata": {},
   "source": [
    "To set the simulation parameters we load the default config file and go through the settings"
   ]
  },
  {
   "cell_type": "code",
   "execution_count": 12,
   "metadata": {
    "ExecuteTime": {
     "end_time": "2020-10-05T20:42:23.496589Z",
     "start_time": "2020-10-05T20:42:23.450955Z"
    }
   },
   "outputs": [],
   "source": [
    "param = decode.utils.param_io.load_params('config/param_friendly.yaml')"
   ]
  },
  {
   "cell_type": "markdown",
   "metadata": {},
   "source": [
    "The camera parameters need to be adjusted according to the device used. Here we used an EMCCD camera, for a sCMOS device you must set the em_gain to `None`"
   ]
  },
  {
   "cell_type": "code",
   "execution_count": 13,
   "metadata": {
    "ExecuteTime": {
     "end_time": "2020-10-05T20:42:23.509592Z",
     "start_time": "2020-10-05T20:42:23.499249Z"
    }
   },
   "outputs": [
    {
     "data": {
      "text/plain": [
       "{'baseline': 398.6,\n",
       " 'convert2photons': True,\n",
       " 'e_per_adu': 5.0,\n",
       " 'em_gain': 100,\n",
       " 'px_size': [127.0, 117.0],\n",
       " 'qe': 1.0,\n",
       " 'read_sigma': 58.8,\n",
       " 'spur_noise': 0.0015}"
      ]
     },
     "execution_count": 13,
     "metadata": {},
     "output_type": "execute_result"
    }
   ],
   "source": [
    "param.Camera.baseline = 398.6\n",
    "param.Camera.e_per_adu = 5.0\n",
    "param.Camera.em_gain = 100\n",
    "param.Camera.px_size =[127.0, 117.0] # Pixel Size in nano meter\n",
    "param.Camera.qe = 1.0                # Quantum efficiency\n",
    "param.Camera.read_sigma = 58.8\n",
    "param.Camera.spur_noise = 0.0015\n",
    "\n",
    "param.Camera.to_dict()"
   ]
  },
  {
   "cell_type": "markdown",
   "metadata": {},
   "source": [
    "The simulation parameters should be set so that the resulting simulated frames resemble real frames as closely as possible.\n",
    "You can use SMAP to infer these parameters by performing inference with an iterative approach on a couple of frames. (see documentation).\n",
    "However it is also possible to find reasonable values by hand."
   ]
  },
  {
   "cell_type": "code",
   "execution_count": 14,
   "metadata": {
    "ExecuteTime": {
     "end_time": "2020-10-05T20:50:00.885172Z",
     "start_time": "2020-10-05T20:50:00.874269Z"
    }
   },
   "outputs": [
    {
     "data": {
      "text/plain": [
       "{'bg_uniform': [20.0, 100.0],\n",
       " 'density': None,\n",
       " 'emitter_av': 20,\n",
       " 'emitter_extent': [[-0.5, 39.5], [-0.5, 39.5], [-800, 800]],\n",
       " 'img_size': [40, 40],\n",
       " 'intensity_mu_sig': [7000.0, 3000.0],\n",
       " 'intensity_th': None,\n",
       " 'lifetime_avg': 2,\n",
       " 'mode': 'acquisition',\n",
       " 'photon_range': None,\n",
       " 'psf_extent': [[-0.5, 39.5], [-0.5, 39.5], None],\n",
       " 'roi_size': None,\n",
       " 'roi_auto_center': False,\n",
       " 'xy_unit': 'px'}"
      ]
     },
     "execution_count": 14,
     "metadata": {},
     "output_type": "execute_result"
    }
   ],
   "source": [
    "param.Simulation.bg_uniform = [20.0, 100.0]           # background range to sample from. You can also specify a const. value as 'bg_uniform = 100'\n",
    "param.Simulation.emitter_av = 20                      # Average number of emitters per frame\n",
    "param.Simulation.emitter_extent[2] = [-800, 800]    # Volume in which emitters are sampled. x,y values should not be changed. z-range (in nm) should be adjusted according to the PSF\n",
    "param.Simulation.intensity_mu_sig = [7000.0, 3000.0]  # Average intensity and its standard deviation\n",
    "param.Simulation.lifetime_avg = 2                     # Average lifetime of each emitter in frames. 2 works for most experiments\n",
    "\n",
    "param.Simulation.to_dict()"
   ]
  },
  {
   "cell_type": "markdown",
   "metadata": {},
   "source": [
    "Lastly we provide the calibration file, and the destination for the output.\n",
    "There are more parameters (you can just execute param in a cell to look at them) that you should not need to change.   \n",
    "You might have to reduce the batch size (param.HyperParameter.batch_size) if you run out of memory."
   ]
  },
  {
   "cell_type": "code",
   "execution_count": 15,
   "metadata": {
    "ExecuteTime": {
     "end_time": "2020-10-05T20:50:02.151577Z",
     "start_time": "2020-10-05T20:50:02.144379Z"
    }
   },
   "outputs": [
    {
     "data": {
      "text/plain": [
       "{'calibration_file': 'data/Calibration/2019-06-13_Calibration/sequence-as-stack-Beads-AS-Exp_3dcal.mat',\n",
       " 'experiment_out': '',\n",
       " 'model_init': None}"
      ]
     },
     "execution_count": 15,
     "metadata": {},
     "output_type": "execute_result"
    }
   ],
   "source": [
    "param.InOut.calibration_file = calib_file\n",
    "param.InOut.experiment_out = ''\n",
    "\n",
    "param.InOut.to_dict()"
   ]
  },
  {
   "cell_type": "code",
   "execution_count": 16,
   "metadata": {
    "ExecuteTime": {
     "end_time": "2020-10-05T20:50:02.151577Z",
     "start_time": "2020-10-05T20:50:02.144379Z"
    }
   },
   "outputs": [],
   "source": [
    "# finally we derive some parameters automatically for easy use\n",
    "param = decode.utils.param_io.autoset_scaling(param)"
   ]
  },
  {
   "cell_type": "markdown",
   "metadata": {},
   "source": [
    "Now we can set up our simulator and the camera model."
   ]
  },
  {
   "cell_type": "code",
   "execution_count": 17,
   "metadata": {
    "ExecuteTime": {
     "end_time": "2020-10-05T20:50:03.117478Z",
     "start_time": "2020-10-05T20:50:02.543929Z"
    }
   },
   "outputs": [
    {
     "name": "stdout",
     "output_type": "stream",
     "text": [
      "Simulation set up successfull.\n"
     ]
    }
   ],
   "source": [
    "simulator, sim_test = decode.neuralfitter.train.live_engine.setup_random_simulation(param)\n",
    "print(\"Simulation set up successfull.\")\n",
    "camera = decode.simulation.camera.Photon2Camera.parse(param)"
   ]
  },
  {
   "cell_type": "markdown",
   "metadata": {},
   "source": [
    "Let us sample a set frames, and also load our data: "
   ]
  },
  {
   "cell_type": "code",
   "execution_count": 19,
   "metadata": {
    "ExecuteTime": {
     "end_time": "2020-10-05T20:50:06.354717Z",
     "start_time": "2020-10-05T20:50:03.120108Z"
    }
   },
   "outputs": [
    {
     "name": "stdout",
     "output_type": "stream",
     "text": [
      "Data shapes, simulation: torch.Size([10001, 40, 40]), real data: torch.Size([20000, 180, 179])\n",
      "Average value, simulation: 106.0, real data: 1602.0\n"
     ]
    }
   ],
   "source": [
    "tar_em, sim_frames, bg_frames = simulator.sample()\n",
    "sim_frames = sim_frames.cpu()\n",
    "\n",
    "data_frames = decode.utils.frames_io.load_tif('package_1/frames.tif').cpu()\n",
    "\n",
    "print(f'Data shapes, simulation: {sim_frames.shape}, real data: {data_frames.shape}')\n",
    "print(f'Average value, simulation: {sim_frames.mean().round()}, real data: {data_frames.mean().round()}')"
   ]
  },
  {
   "cell_type": "markdown",
   "metadata": {},
   "source": [
    "Looking at the mean brightness, we see that there is a large missmatch. The reason is that we simulate the photons that are emitted by the fluorophores, while the tiff file shows the photons that are recorded by the camera (after amplificiation). To enable direct comparison we convert the real data frames into photon numbers.   \n",
    "Be aware that camera.forward()  and camera.forward() are not each others inverse. forward() performs noise sampling, while backward() simply rescales by the em_gain"
   ]
  },
  {
   "cell_type": "code",
   "execution_count": 20,
   "metadata": {
    "ExecuteTime": {
     "end_time": "2020-10-05T20:50:07.901001Z",
     "start_time": "2020-10-05T20:50:06.356807Z"
    }
   },
   "outputs": [
    {
     "name": "stdout",
     "output_type": "stream",
     "text": [
      "Average value, simulation: 106.0, real data: 60.0\n"
     ]
    }
   ],
   "source": [
    "data_frames = camera.backward(data_frames).cpu()\n",
    "print(f'Average value, simulation: {sim_frames.mean().round()}, real data: {data_frames.mean().round()}')"
   ]
  },
  {
   "cell_type": "markdown",
   "metadata": {
    "ExecuteTime": {
     "end_time": "2020-10-05T20:50:07.906886Z",
     "start_time": "2020-10-05T20:50:07.902719Z"
    }
   },
   "source": [
    "By comparing random frames (chosing a dense region of the real data) we can convince ourselves that the distributions are somewhat similar.   \n",
    "If you observe large differences for your dataset, you probably have to adjust param.Simulation.bg_uniform and param.Simulation.intensity_mu_sig"
   ]
  },
  {
   "cell_type": "code",
   "execution_count": 21,
   "metadata": {
    "ExecuteTime": {
     "end_time": "2020-10-05T20:54:55.554474Z",
     "start_time": "2020-10-05T20:54:54.892173Z"
    }
   },
   "outputs": [
    {
     "data": {
      "text/plain": [
       "<matplotlib.colorbar.Colorbar at 0x7f6b2c0edb80>"
      ]
     },
     "execution_count": 21,
     "metadata": {},
     "output_type": "execute_result"
    },
    {
     "data": {
      "image/png": "[encoded data removed]",
      "text/plain": [
       "<Figure size 864x360 with 4 Axes>"
      ]
     },
     "metadata": {
      "needs_background": "light"
     },
     "output_type": "display_data"
    }
   ],
   "source": [
    "plt.figure(figsize=(12,5))\n",
    "plt.subplot(121)\n",
    "plt.imshow(sim_frames[np.random.randint(0,len(sim_frames))])\n",
    "plt.colorbar()\n",
    "plt.subplot(122)\n",
    "plt.imshow(data_frames[np.random.randint(0,len(data_frames)), 30:70,-40:])\n",
    "plt.colorbar()"
   ]
  },
  {
   "cell_type": "markdown",
   "metadata": {},
   "source": [
    "Once you are happy with you settings you can write the parameters to a file (or edit the param_friendly.yaml directly)"
   ]
  },
  {
   "cell_type": "code",
   "execution_count": 22,
   "metadata": {
    "ExecuteTime": {
     "end_time": "2020-10-05T20:58:41.646625Z",
     "start_time": "2020-10-05T20:58:41.614548Z"
    }
   },
   "outputs": [],
   "source": [
    "# import yaml\n",
    "# with open('config/notebook_example.yaml', 'w') as file:\n",
    "#     yaml.dump(param, file)\n",
    "\n",
    "# to be replaced by\n",
    "# decode.utils.param_io.ParamHandling().write_params('musterstrasse.yaml', param)"
   ]
  },
  {
   "cell_type": "markdown",
   "metadata": {
    "ExecuteTime": {
     "end_time": "2020-10-05T21:00:50.260177Z",
     "start_time": "2020-10-05T21:00:50.254454Z"
    }
   },
   "source": [
    "To start training execute:"
   ]
  },
  {
   "cell_type": "code",
   "execution_count": null,
   "metadata": {},
   "outputs": [],
   "source": [
    "!python -m decode.neuralfitter.train.live_engine -p config/notebook_example.yaml"
   ]
  }
 ],
 "metadata": {
  "kernelspec": {
   "display_name": "Python [conda env:deepsmlm_cuda_py38_pt15]",
   "language": "python",
   "name": "conda-env-deepsmlm_cuda_py38_pt15-py"
  },
  "language_info": {
   "codemirror_mode": {
    "name": "ipython",
    "version": 3
   },
   "file_extension": ".py",
   "mimetype": "text/x-python",
   "name": "python",
   "nbconvert_exporter": "python",
   "pygments_lexer": "ipython3",
   "version": "3.8.3"
  }
 },
 "nbformat": 4,
 "nbformat_minor": 4
}
